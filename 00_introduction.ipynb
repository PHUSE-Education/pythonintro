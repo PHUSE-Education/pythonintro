{
 "cells": [
  {
   "cell_type": "markdown",
   "metadata": {},
   "source": [
    "![Banner](Banner%20web.jpg)"
   ]
  },
  {
   "cell_type": "markdown",
   "metadata": {
    "collapsed": true,
    "pycharm": {
     "name": "#%% md\n"
    }
   },
   "source": [
    "# Welcome to the PhUSE EU Connect introduction to Python Course\n",
    "\n",
    "This course will cover a primer on the Python Language with a focus on topics relevant to Data Analysis and Management.\n",
    "\n",
    "## About Python\n",
    "Python is an open-source programming language that was created and first released in 1991 by [Guido van Rossum](https://en.wikipedia.org/wiki/Guido_van_Rossum) \n",
    "\n",
    "It is an interpreted language, it does not require a separate compilation step (turning source code into machine code)\n",
    "\n",
    "It is supported on pretty much every platform, as well as through the use of cloud computing platforms loading and executing Jupyter Notebooks"
   ]
  },
  {
   "cell_type": "markdown",
   "metadata": {},
   "source": [
    "## Jupyter Notebooks\n",
    "For this course we will be using Jupyter Notebooks, these can be run on your machine or using a web platform like:\n",
    "* [Google Colaboratory](https://colab.research.google.com/)\n",
    "* [Microsoft Azure Notebooks](https://notebooks.azure.com/)\n",
    "* [CoCalc](https://cocalc.com/doc/jupyter-notebook.html)\n",
    "* [Binder](https://mybinder.org/)\n",
    "* [AWS Sagemaker](https://docs.aws.amazon.com/sagemaker/latest/dg/gs.html)\n",
    "\n",
    "Notebook servers are attractive for many reasons; \n",
    "* they don't require you installing anything on your machine which you may not want to do (or not be allowed to)  \n",
    "* they can be backed with cloud storage so can be accessed from anywhere; in the example of Colab, your notebooks can be saved to your google drive\n",
    "* large persistent datasets can be stored centrally (important for machine learning projects where you spend large resources training/validating)\n",
    "* access to specialised hardware without the burden of owning and managing them (such as GPU Arrays)\n",
    "* easy to share\n",
    "\n"
   ]
  },
  {
   "cell_type": "markdown",
   "metadata": {},
   "source": [
    "## Installing locally\n",
    "\n",
    "Follow the links below to download and install Python.  \n",
    "**NOTE** Use Python 3 \n",
    "* Conda Installation (ready packaged with the key libraries, miniconda is a slimline version; anaconda is the full featured version)\n",
    "  * [Windows](https://docs.conda.io/projects/conda/en/latest/user-guide/install/windows.html)\n",
    "  * [Linux](https://docs.conda.io/projects/conda/en/latest/user-guide/install/linux.html)\n",
    "  * [MacOS](https://docs.conda.io/projects/conda/en/latest/user-guide/install/macos.html)\n",
    "* Vanilla Python - **NOTE** default versions are often many releases behind\n",
    "  * [Windows](https://www.python.org/downloads/windows/)\n",
    "  * Linux - use your distributions preferred method (eg *apt install python3*)\n",
    "  * MacOS - use [brew](https://brew.sh/) to install (ie *brew install python*)\n",
    " \n",
    "I also recommend the use of [VirtualEnv](https://docs.python.org/3/library/venv.html) when you work on many projects.  Come talk with me if you want to know more.\n",
    "\n",
    "Once you have installed Python then you can install jupyter using *pip* or *conda*.  Note - if you installed *anaconda* above, then \n",
    "\n",
    "### conda\n",
    "```\n",
    "conda install -c conda-forge jupyterlab\n",
    "```\n",
    "\n",
    "### pip\n",
    "```\n",
    "pip install jupyterlab\n",
    "```\n",
    "\n"
   ]
  },
  {
   "cell_type": "markdown",
   "metadata": {},
   "source": [
    "## Running Jupyter Locally\n",
    "\n",
    "Open a shell and run the following (if you have issues with this contact me)\n",
    "\n",
    "```\n",
    "jupyter notebook\n",
    "```\n",
    "\n",
    "A web browser window will popup (with the address [http://localhost:8888]).  \n",
    "\n",
    "You can then create a new Python 3 Notebook.\n",
    "\n",
    "There has been some refactoring of the Notebook interface in Jupyter Lab, this *new* interface can be accessed by starting it this way:\n",
    "\n",
    "```\n",
    "jupyter lab\n",
    "```\n"
   ]
  },
  {
   "cell_type": "markdown",
   "metadata": {},
   "source": [
    "## Downloading the source material \n",
    "\n",
    "The course material will be available from GitHub; you can access it at the following location\n",
    "\n",
    "[https://github.com/glow-mdsol/phuse_eu_connect_python](https://github.com/glow-mdsol/phuse_eu_connect_python)\n",
    "\n",
    "You can clone it using a git client:\n",
    "* `git clone https://github.com/glow-mdsol/phuse_eu_connect_python`\n",
    "\n",
    "You can download it using the following link:\n",
    "* [Download](https://github.com/glow-mdsol/phuse_eu_connect_python/archive/develop.zip)"
   ]
  },
  {
   "cell_type": "markdown",
   "metadata": {},
   "source": [
    "## Next \n",
    "\n",
    "Click [here](01_introduction_to_python_variables_simple_types.ipynb) to continue"
   ]
  },
  {
   "cell_type": "markdown",
   "metadata": {},
   "source": [
    "![Author Geoff Low](author-geoff%20low%20small.png)\n",
    "<img src=\"Logo%20standard.png\" alt=\"PHUSE Education\" style=\"width: 400px;\"/>"
   ]
  },
  {
   "cell_type": "code",
   "execution_count": null,
   "metadata": {},
   "outputs": [],
   "source": []
  }
 ],
 "metadata": {
  "kernelspec": {
   "display_name": "Python 3",
   "language": "python",
   "name": "python3"
  },
  "language_info": {
   "codemirror_mode": {
    "name": "ipython",
    "version": 3
   },
   "file_extension": ".py",
   "mimetype": "text/x-python",
   "name": "python",
   "nbconvert_exporter": "python",
   "pygments_lexer": "ipython3",
   "version": "3.7.6"
  },
  "pycharm": {
   "stem_cell": {
    "cell_type": "raw",
    "metadata": {
     "collapsed": false
    },
    "source": []
   }
  }
 },
 "nbformat": 4,
 "nbformat_minor": 1
}

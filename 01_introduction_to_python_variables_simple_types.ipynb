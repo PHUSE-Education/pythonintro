{
 "cells": [
  {
   "cell_type": "markdown",
   "metadata": {},
   "source": [
    "![Banner](Banner%20web.jpg)"
   ]
  },
  {
   "cell_type": "markdown",
   "metadata": {},
   "source": [
    "## Let's start!\n",
    "\n",
    "Manipulating values in any language is done through the use of variables and operations.\n",
    "\n",
    "### Variables\n",
    "\n",
    "A variable is a holder for data and allows the programmer to pass around references to the data.  \n",
    "Variables are generally said to be:\n",
    "* **mutable** - a variable can be changed after creation\n",
    "* **immutable** - a variable is fixed and unchangeable (there's nothing to stop you overwriting it)\n",
    "\n",
    "Variables have data types; Python is a little unusual with respect to its type system.  It has a loose typing system.  \n",
    "\n",
    "This means:\n",
    "* You don't have to declare what type a variable is - the interpreter will work it out as you *assign* the variable a value\n",
    "\n",
    "When you want to work out what type a variable is, you can use the `type` function, it returns the python type for a variable instance.\n",
    "\n",
    "Following this are a set of assigments for the python fundamental types.\n"
   ]
  },
  {
   "cell_type": "code",
   "execution_count": 1,
   "metadata": {
    "pycharm": {
     "name": "#%%\n"
    }
   },
   "outputs": [
    {
     "data": {
      "text/plain": [
       "int"
      ]
     },
     "execution_count": 1,
     "metadata": {},
     "output_type": "execute_result"
    }
   ],
   "source": [
    "# first off - an integer (int)\n",
    "a = 1\n",
    "type(a)"
   ]
  },
  {
   "cell_type": "code",
   "execution_count": 2,
   "metadata": {
    "pycharm": {
     "name": "#%%\n"
    }
   },
   "outputs": [
    {
     "data": {
      "text/plain": [
       "float"
      ]
     },
     "execution_count": 2,
     "metadata": {},
     "output_type": "execute_result"
    }
   ],
   "source": [
    "# next a float (float)\n",
    "a = 1.1\n",
    "type(a)"
   ]
  },
  {
   "cell_type": "code",
   "execution_count": 3,
   "metadata": {
    "pycharm": {
     "name": "#%%\n"
    }
   },
   "outputs": [
    {
     "data": {
      "text/plain": [
       "str"
      ]
     },
     "execution_count": 3,
     "metadata": {},
     "output_type": "execute_result"
    }
   ],
   "source": [
    "# next a string (str)\n",
    "a = \"1\"\n",
    "type(a)"
   ]
  },
  {
   "cell_type": "code",
   "execution_count": 4,
   "metadata": {
    "pycharm": {
     "name": "#%%\n"
    }
   },
   "outputs": [
    {
     "data": {
      "text/plain": [
       "bool"
      ]
     },
     "execution_count": 4,
     "metadata": {},
     "output_type": "execute_result"
    }
   ],
   "source": [
    "# next a boolean (bool)\n",
    "a = True\n",
    "type(a)"
   ]
  },
  {
   "cell_type": "code",
   "execution_count": 6,
   "metadata": {
    "pycharm": {
     "name": "#%%\n"
    }
   },
   "outputs": [
    {
     "name": "stdout",
     "output_type": "stream",
     "text": [
      "<class 'complex'>\n",
      "1.0 -1.0\n"
     ]
    }
   ],
   "source": [
    "# next a complex number\n",
    "a = 1.0 - 1.0j\n",
    "print(type(a))\n",
    "print(a.real, a.imag)"
   ]
  },
  {
   "cell_type": "markdown",
   "metadata": {},
   "source": [
    "In each of these cases we have not declared up front what `type` of variable `a` is - we assign the value to the variable and python has worked it out.  The type inference is very powerful, but you must be careful in how you use it.  As the types are not defined in advance, there's nothing to stop or warn you about an incompatible assignment.\n",
    "\n",
    "You can use the `isinstance` function to check:"
   ]
  },
  {
   "cell_type": "code",
   "execution_count": 1,
   "metadata": {},
   "outputs": [
    {
     "name": "stdout",
     "output_type": "stream",
     "text": [
      "a is a string:  True\n",
      "a is an integer:  False\n",
      "b is a string:  False\n",
      "b is an integer:  True\n"
     ]
    }
   ],
   "source": [
    "a = \"1\"\n",
    "b = 1\n",
    "print(\"a is a string: \", isinstance(a, (str,)))\n",
    "print(\"a is an integer: \", isinstance(a, (int,)))\n",
    "\n",
    "print(\"b is a string: \", isinstance(b, (str,)))\n",
    "print(\"b is an integer: \", isinstance(b, (int,)))\n"
   ]
  },
  {
   "cell_type": "markdown",
   "metadata": {},
   "source": [
    "The type of variable is important when you want to use it, in these examples we use the increment operator `+=` on different types of variable"
   ]
  },
  {
   "cell_type": "code",
   "execution_count": null,
   "metadata": {
    "pycharm": {
     "name": "#%%\n"
    }
   },
   "outputs": [],
   "source": [
    "# note that += 1 is a shorthand for a = a + 1 (+= is an operator)\n",
    "a = 1\n",
    "a += 1\n",
    "a"
   ]
  },
  {
   "cell_type": "code",
   "execution_count": null,
   "metadata": {
    "pycharm": {
     "name": "#%%\n"
    }
   },
   "outputs": [],
   "source": [
    "# a bit strange\n",
    "a = 1.1\n",
    "a += 1\n",
    "a"
   ]
  },
  {
   "cell_type": "code",
   "execution_count": null,
   "metadata": {
    "pycharm": {
     "name": "#%%\n"
    }
   },
   "outputs": [],
   "source": [
    "# very strange\n",
    "a = \"1\"\n",
    "a += 1\n",
    "a"
   ]
  },
  {
   "cell_type": "code",
   "execution_count": null,
   "metadata": {
    "pycharm": {
     "name": "#%%\n"
    }
   },
   "outputs": [],
   "source": [
    "# are you out of your mind???\n",
    "a = True\n",
    "a += 1\n",
    "a"
   ]
  },
  {
   "cell_type": "markdown",
   "metadata": {},
   "source": [
    "Note that Python has just worked it out where it makes sense, and if it doesn't make sense then it throws an error (which you can anticipate and handle, but more on that later)"
   ]
  },
  {
   "cell_type": "markdown",
   "metadata": {},
   "source": [
    "## Type casting\n",
    "Python will try to do the right thing when you attempt to use a variable as a different type.  Changing the type of variable is called *casting*"
   ]
  },
  {
   "cell_type": "code",
   "execution_count": null,
   "metadata": {
    "pycharm": {
     "name": "#%%\n"
    }
   },
   "outputs": [],
   "source": [
    "x = 1.5     # a float \n",
    "print(x, type(x))"
   ]
  },
  {
   "cell_type": "code",
   "execution_count": null,
   "metadata": {
    "pycharm": {
     "name": "#%%\n"
    }
   },
   "outputs": [],
   "source": [
    "x = int(x) # cast the float to an int - note the cast to int will floor (take the lower bound of) the value\n",
    "print(x, type(x))"
   ]
  },
  {
   "cell_type": "code",
   "execution_count": 6,
   "metadata": {},
   "outputs": [
    {
     "name": "stdout",
     "output_type": "stream",
     "text": [
      "1 <class 'int'>\n"
     ]
    }
   ],
   "source": [
    "# Where it makes sense, you can cast from a string\n",
    "x = \"1\"\n",
    "c = int(x)\n",
    "print(c, type(c))"
   ]
  },
  {
   "cell_type": "code",
   "execution_count": 7,
   "metadata": {},
   "outputs": [
    {
     "name": "stdout",
     "output_type": "stream",
     "text": [
      "1.1 <class 'float'>\n"
     ]
    }
   ],
   "source": [
    "x = \"1.1\"\n",
    "c = float(x)\n",
    "print(c, type(c))\n"
   ]
  },
  {
   "cell_type": "code",
   "execution_count": 8,
   "metadata": {},
   "outputs": [
    {
     "name": "stdout",
     "output_type": "stream",
     "text": [
      "True <class 'bool'>\n"
     ]
    }
   ],
   "source": [
    "x = \"1\"\n",
    "c = bool(x)\n",
    "print(c, type(c))"
   ]
  },
  {
   "cell_type": "markdown",
   "metadata": {},
   "source": [
    "What do you think the cast to `bool` value will be for the following cases:\n",
    "* \"0\"\n",
    "* \"\"\n",
    "* \"false\"\n",
    "* \"true\"\n",
    "* \"banana\"\n",
    "\n",
    "Make your prediction in the following sections"
   ]
  },
  {
   "cell_type": "code",
   "execution_count": null,
   "metadata": {},
   "outputs": [],
   "source": [
    "prediction = None # replace None with True or False\n",
    "x = \"0\"\n",
    "c = bool(x)\n",
    "\n",
    "assert prediction == c, \"You guessed wrong, try again\""
   ]
  },
  {
   "cell_type": "code",
   "execution_count": null,
   "metadata": {},
   "outputs": [],
   "source": [
    "prediction = None # replace None with True or False\n",
    "x = \"\"\n",
    "c = bool(x)\n",
    "\n",
    "assert prediction == c, \"You guessed wrong, try again\""
   ]
  },
  {
   "cell_type": "code",
   "execution_count": null,
   "metadata": {},
   "outputs": [],
   "source": [
    "prediction = None # replace None with True or False\n",
    "x = \"false\"\n",
    "c = bool(x)\n",
    "\n",
    "assert prediction == c, \"You guessed wrong, try again\""
   ]
  },
  {
   "cell_type": "code",
   "execution_count": null,
   "metadata": {},
   "outputs": [],
   "source": [
    "prediction = None # replace None with True or False\n",
    "x = \"true\"\n",
    "c = bool(x)\n",
    "\n",
    "assert prediction == c, \"You guessed wrong, try again\""
   ]
  },
  {
   "cell_type": "code",
   "execution_count": null,
   "metadata": {},
   "outputs": [],
   "source": [
    "prediction = None # replace None with True or False\n",
    "x = \"banana\"\n",
    "c = bool(x)\n",
    "\n",
    "assert prediction == c, \"You guessed wrong, try again\""
   ]
  },
  {
   "cell_type": "markdown",
   "metadata": {},
   "source": [
    "### Strings\n",
    "\n",
    "Just a couple of comments on strings as these will form an important part of your usage of Python.  By default in Python 3 strings are immutable sequences of Unicode code points.\n",
    "\n",
    "Strings can be created in a few ways:\n",
    "* Single quotes: 'allows embedded \"double\" quotes'\n",
    "* Double quotes: \"allows embedded 'single' quotes\".\n",
    "* Triple quoted: '''Three single quotes''', \"\"\"Three double quotes\"\"\"\n",
    "\n",
    "Triple quoted strings can include newlines."
   ]
  },
  {
   "cell_type": "code",
   "execution_count": 3,
   "metadata": {},
   "outputs": [
    {
     "ename": "SyntaxError",
     "evalue": "EOL while scanning string literal (<ipython-input-3-e5bc0cb8b780>, line 1)",
     "output_type": "error",
     "traceback": [
      "\u001b[0;36m  File \u001b[0;32m\"<ipython-input-3-e5bc0cb8b780>\"\u001b[0;36m, line \u001b[0;32m1\u001b[0m\n\u001b[0;31m    some_string = \"Some string\u001b[0m\n\u001b[0m                              ^\u001b[0m\n\u001b[0;31mSyntaxError\u001b[0m\u001b[0;31m:\u001b[0m EOL while scanning string literal\n"
     ]
    }
   ],
   "source": [
    "some_string = \"Some strings\n",
    "are longer than one line\""
   ]
  },
  {
   "cell_type": "code",
   "execution_count": 4,
   "metadata": {},
   "outputs": [],
   "source": [
    "some_string = \"\"\"Some strings\n",
    "are longer than one line\"\"\""
   ]
  },
  {
   "cell_type": "markdown",
   "metadata": {},
   "source": [
    "To get the length of a string use the `len` function."
   ]
  },
  {
   "cell_type": "code",
   "execution_count": 1,
   "metadata": {},
   "outputs": [
    {
     "data": {
      "text/plain": [
       "190"
      ]
     },
     "execution_count": 1,
     "metadata": {},
     "output_type": "execute_result"
    }
   ],
   "source": [
    "sample_str = \"Far far away, behind the word mountains, far from the countries Vokalia and Consonantia, there live the blind texts. Separated they live in Bookmarksgrove right at the coast of the Semantics\"\n",
    "\n",
    "len(sample_str)\n"
   ]
  },
  {
   "cell_type": "markdown",
   "metadata": {},
   "source": [
    "You can access specific characters (or ranges of characters) using indexes `[]`"
   ]
  },
  {
   "cell_type": "code",
   "execution_count": 5,
   "metadata": {},
   "outputs": [
    {
     "name": "stdout",
     "output_type": "stream",
     "text": [
      "F\n",
      "Far f\n",
      "ntics\n",
      "ar aw\n"
     ]
    }
   ],
   "source": [
    "# get the first character\n",
    "print(sample_str[0])\n",
    "\n",
    "# get the first 5 characters\n",
    "print(sample_str[0:5])\n",
    "\n",
    "# get the last 5 characters\n",
    "print(sample_str[-5:])\n",
    "\n",
    "# get the last 5th through 10th characters\n",
    "print(sample_str[5:10])"
   ]
  },
  {
   "cell_type": "markdown",
   "metadata": {},
   "source": [
    "There are many really useful operators on strings, I wanted to highlight a couple here as really helpful"
   ]
  },
  {
   "cell_type": "code",
   "execution_count": 13,
   "metadata": {},
   "outputs": [
    {
     "name": "stdout",
     "output_type": "stream",
     "text": [
      "here i am\n",
      "HERE I AM\n",
      "Here i am\n"
     ]
    }
   ],
   "source": [
    "# upper, lower and capitalize modify strings\n",
    "some_string = \"Here I am\"\n",
    "print(some_string.lower())\n",
    "print(some_string.upper())\n",
    "print(some_string.capitalize())\n"
   ]
  },
  {
   "cell_type": "code",
   "execution_count": null,
   "metadata": {},
   "outputs": [],
   "source": [
    "# strip removes whitespace characters\n",
    "some_string = \" Here I am \"\n",
    "print(some_string.strip())\n"
   ]
  },
  {
   "cell_type": "code",
   "execution_count": null,
   "metadata": {},
   "outputs": [],
   "source": [
    "# split splits a string based on a delimiter (defaults to space) and returns a list (more on this later)\n",
    "some_string = \" Here I am \"\n",
    "print(some_string.split())\n",
    "\n",
    "# pass the delimiter as an argument\n",
    "delim = \"10,120,30\"\n",
    "print(delim.split(\",\"))"
   ]
  },
  {
   "cell_type": "code",
   "execution_count": 10,
   "metadata": {},
   "outputs": [
    {
     "name": "stdout",
     "output_type": "stream",
     "text": [
      " Here I was \n",
      " Here I am \n",
      " Here I was \n"
     ]
    }
   ],
   "source": [
    "# replace replaces a substring with another\n",
    "some_string = \" Here I am \"\n",
    "print(some_string.replace(\"am\", \"was\"))\n",
    "\n",
    "# NOTE the replace operation returns a new string, it doesn't update the original string\n",
    "was_string = some_string.replace(\"am\", \"was\")\n",
    "print(some_string)   \n",
    "print(was_string)\n"
   ]
  },
  {
   "cell_type": "code",
   "execution_count": 12,
   "metadata": {},
   "outputs": [
    {
     "name": "stdout",
     "output_type": "stream",
     "text": [
      "The string ' Here I am ' after replace was ' Here I was '\n"
     ]
    }
   ],
   "source": [
    "# format is used to substitute text, the {} is replaced by the corresponding argument from the format \n",
    "print(\"The string '{}' after replace was '{}'\".format(some_string, was_string))\n"
   ]
  },
  {
   "cell_type": "markdown",
   "metadata": {},
   "source": [
    "The output format of the values in the `format` method can be controlled using [format strings](https://docs.python.org/3/library/string.html#formatstrings).\n",
    "\n",
    "This is just a highlight of some of the methods on strings; check out [String Methods](https://docs.python.org/3/library/stdtypes.html#string-methods) for more.  \n",
    "\n",
    "Note, there are also similar methods for the other types; the [Standard Types](https://docs.python.org/3/library/stdtypes.html) page will serve you well.\n"
   ]
  },
  {
   "cell_type": "markdown",
   "metadata": {},
   "source": [
    "## Operators"
   ]
  },
  {
   "cell_type": "markdown",
   "metadata": {
    "pycharm": {
     "name": "#%% md\n"
    }
   },
   "source": [
    "### Arithmetic Operators\n",
    "* `+` (addition)\n",
    "* `-` (subtraction)\n",
    "* `*` (multiplication)\n",
    "* `/` (division)\n",
    "* `//` (integer division)\n",
    "* `**` (power)\n",
    "* `%` (modulus)"
   ]
  },
  {
   "cell_type": "code",
   "execution_count": null,
   "metadata": {
    "pycharm": {
     "name": "#%%\n"
    }
   },
   "outputs": [],
   "source": [
    "print(1 + 2, 1.0 + 2.0)"
   ]
  },
  {
   "cell_type": "code",
   "execution_count": null,
   "metadata": {
    "pycharm": {
     "name": "#%%\n"
    }
   },
   "outputs": [],
   "source": [
    "print(2 - 1, 2.0 - 1.0)"
   ]
  },
  {
   "cell_type": "code",
   "execution_count": null,
   "metadata": {
    "pycharm": {
     "name": "#%%\n"
    }
   },
   "outputs": [],
   "source": [
    "print(3 * 4, 3.0 * 4.0)"
   ]
  },
  {
   "cell_type": "code",
   "execution_count": null,
   "metadata": {
    "pycharm": {
     "name": "#%% \n"
    }
   },
   "outputs": [],
   "source": [
    "print(3 / 4, 3.0 / 4.0)"
   ]
  },
  {
   "cell_type": "code",
   "execution_count": null,
   "metadata": {
    "pycharm": {
     "name": "#%% \n"
    }
   },
   "outputs": [],
   "source": [
    "print(3.0 // 4.0)"
   ]
  },
  {
   "cell_type": "code",
   "execution_count": null,
   "metadata": {
    "pycharm": {
     "name": "#%% \n"
    }
   },
   "outputs": [],
   "source": [
    "print(3**2, 3.0**2.0)"
   ]
  },
  {
   "cell_type": "code",
   "execution_count": null,
   "metadata": {
    "pycharm": {
     "name": "#%% \n"
    }
   },
   "outputs": [],
   "source": [
    "print( 5 % 2, 5.0 % 2)"
   ]
  },
  {
   "cell_type": "markdown",
   "metadata": {
    "pycharm": {
     "name": "#%% md\n"
    }
   },
   "source": [
    "### Logical Operators\n",
    "* `not` (`!`)\n",
    "* `and` (`&`)\n",
    "* `or` (`|`)\n",
    "* xor (`^`)"
   ]
  },
  {
   "cell_type": "code",
   "execution_count": null,
   "metadata": {
    "pycharm": {
     "name": "#%%\n"
    }
   },
   "outputs": [],
   "source": [
    "not True"
   ]
  },
  {
   "cell_type": "code",
   "execution_count": null,
   "metadata": {
    "pycharm": {
     "name": "#%%\n"
    }
   },
   "outputs": [],
   "source": [
    "(True and False, True & False)"
   ]
  },
  {
   "cell_type": "code",
   "execution_count": null,
   "metadata": {
    "pycharm": {
     "name": "#%%\n"
    }
   },
   "outputs": [],
   "source": [
    "(True or False, True | False)"
   ]
  },
  {
   "cell_type": "code",
   "execution_count": null,
   "metadata": {
    "pycharm": {
     "name": "#%%\n"
    }
   },
   "outputs": [],
   "source": [
    "# Exclusive or!\n",
    "(True ^ False, True ^ True, False ^ False)\n"
   ]
  },
  {
   "cell_type": "markdown",
   "metadata": {},
   "source": [
    "### Comparison Operators\n",
    "* `==` equals\n",
    "* `<` less than\n",
    "* `>` greater than\n",
    "* `<=` less than or equal to\n",
    "* `>=` greater than or equal to"
   ]
  },
  {
   "cell_type": "code",
   "execution_count": null,
   "metadata": {
    "pycharm": {
     "name": "#%%\n"
    }
   },
   "outputs": [],
   "source": [
    "a = 1\n",
    "b = 2\n",
    "\n",
    "print(\"Equal:\", a == b)\n",
    "\n",
    "print(\"Less than:\", a < b)\n",
    "\n",
    "print(\"Greater than:\", a > b)"
   ]
  },
  {
   "cell_type": "markdown",
   "metadata": {},
   "source": [
    "Try using these operators with non-numeric variables"
   ]
  },
  {
   "cell_type": "code",
   "execution_count": 15,
   "metadata": {},
   "outputs": [
    {
     "name": "stdout",
     "output_type": "stream",
     "text": [
      "Equal: False\n",
      "Less than: True\n",
      "Greater than: False\n"
     ]
    }
   ],
   "source": [
    "a = \"apple\"\n",
    "b = \"banana\"\n",
    "\n",
    "print(\"Equal:\", a == b)\n",
    "\n",
    "print(\"Less than:\", a < b)\n",
    "\n",
    "print(\"Greater than:\", a > b)"
   ]
  },
  {
   "cell_type": "markdown",
   "metadata": {},
   "source": [
    "Based on the output, what attributes of the strings do you think are being used for evaluation?"
   ]
  },
  {
   "cell_type": "markdown",
   "metadata": {},
   "source": [
    "## Next\n",
    "\n",
    "Now, we're going to move on to compound types.  Click [here](./02_introduction_to_python_variables_compound_types.ipynb) to continue.\n",
    "\n",
    "![Author Geoff Low](author-geoff%20low%20small.png)\n",
    "<img src=\"Logo%20standard.png\" alt=\"PHUSE Education\" style=\"width: 400px;\"/>"
   ]
  },
  {
   "cell_type": "code",
   "execution_count": null,
   "metadata": {},
   "outputs": [],
   "source": []
  }
 ],
 "metadata": {
  "kernelspec": {
   "display_name": "Python 3",
   "language": "python",
   "name": "python3"
  },
  "language_info": {
   "codemirror_mode": {
    "name": "ipython",
    "version": 3
   },
   "file_extension": ".py",
   "mimetype": "text/x-python",
   "name": "python",
   "nbconvert_exporter": "python",
   "pygments_lexer": "ipython3",
   "version": "3.7.6"
  },
  "pycharm": {
   "stem_cell": {
    "cell_type": "raw",
    "metadata": {
     "collapsed": false
    },
    "source": []
   }
  }
 },
 "nbformat": 4,
 "nbformat_minor": 1
}

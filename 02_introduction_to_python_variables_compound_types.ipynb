{
 "cells": [
  {
   "cell_type": "markdown",
   "metadata": {},
   "source": [
    "![Banner](Banner%20web.jpg)"
   ]
  },
  {
   "cell_type": "markdown",
   "metadata": {
    "pycharm": {
     "name": "#%% md\n"
    }
   },
   "source": [
    "## Compound Types\n",
    "Compound types are made up of one or more more data types.  They could be viewed as collection types.  \n",
    "\n",
    "The three core compound types in Python are:\n",
    "* Lists \n",
    "* Tuples \n",
    "* Dictionaries\n",
    "\n",
    "There are different use cases for each of these which we'll go through now:\n"
   ]
  },
  {
   "cell_type": "markdown",
   "metadata": {},
   "source": [
    "### Lists\n",
    "\n",
    "Python lists are similar to arrays in other languages but they are dynamically sized, you don't have to declare (or allocate) what size the list is; you can also add or remove elements to a list.  \n",
    "\n",
    "Lists are **mutable**\n",
    "\n",
    "Lists use the `[]` characters to set the value."
   ]
  },
  {
   "cell_type": "code",
   "execution_count": null,
   "metadata": {
    "pycharm": {
     "name": "#%%\n"
    }
   },
   "outputs": [],
   "source": [
    "# a is a list\n",
    "a = [1,2,3,4,5]\n",
    "# get the length of a\n",
    "print(\"Length of a is:\", len(a))\n",
    "# get the maximum value of a\n",
    "print(\"Maximum of a is:\", max(a))\n",
    "# get the minimum value of a\n",
    "print(\"Minimum of a is:\", min(a))\n",
    "\n",
    "# Lists can be updated using the `append` method\n",
    "a.append(8)\n",
    "\n",
    "print(a)\n",
    "\n",
    "# lists can also be extended through the `extend` method (concatenating two lists together)\n",
    "b = [12, 14, 18]\n",
    "a.extend(b)\n",
    "\n",
    "print(a)"
   ]
  },
  {
   "cell_type": "markdown",
   "metadata": {},
   "source": [
    "The examples shown here - `max`, `len` and `min` are functions that operate on *iterable* types.  More on functions later."
   ]
  },
  {
   "cell_type": "markdown",
   "metadata": {
    "pycharm": {
     "name": "#%% md\n"
    }
   },
   "source": [
    "### Tuples\n",
    "Tuples are very similar to lists; the notable exception is that tuples are immutable.  Tuples use the `()` characters to define the set."
   ]
  },
  {
   "cell_type": "code",
   "execution_count": null,
   "metadata": {
    "pycharm": {
     "name": "#%%\n"
    }
   },
   "outputs": [],
   "source": [
    "# tuples are created using `(` and `)`\n",
    "a = (1,2,3,4,5)\n",
    "\n",
    "# get the length of a\n",
    "len(a)\n",
    "# get the maximum value of a\n",
    "max(a)\n",
    "# get the minimum value of a\n",
    "min(a)\n",
    "# Get the arithmetic sum of the a\n",
    "sum(a)\n",
    "\n",
    "# you cannot change a tuple\n",
    "a.append(2)"
   ]
  },
  {
   "cell_type": "markdown",
   "metadata": {
    "pycharm": {
     "name": "#%% md\n"
    }
   },
   "source": [
    "### Using Lists and Tuples\n",
    "\n",
    "**NOTE** - compund types are *untyped*.  There is no error checking on how you use them - you can append a string to a list of integers without any complaints from the program itself; for this reason you need to be careful in what assumptions you make.  \n",
    "\n",
    "When you want to use a list or tuple you can access elements by index (**NOTE**, python is 0-index based)"
   ]
  },
  {
   "cell_type": "code",
   "execution_count": 3,
   "metadata": {
    "pycharm": {
     "name": "#%%\n"
    }
   },
   "outputs": [
    {
     "name": "stdout",
     "output_type": "stream",
     "text": [
      "1\n",
      "5\n",
      "[1, 0, 0]\n",
      "1\n"
     ]
    }
   ],
   "source": [
    "# Note - we can even insert a list in a list\n",
    "matrix = [[1,0,0], [0,1,0], [0,0,1]]\n",
    "l = [1,2,3,4,5]\n",
    "t = (5,4,3,2,1)\n",
    "print(l[0])  # Get the first element\n",
    "print(t[0])  # Get the first element\n",
    "print(matrix[0])  # Get the first list\n",
    "print(matrix[0][0])  # Get the first element for the first list\n"
   ]
  },
  {
   "cell_type": "code",
   "execution_count": null,
   "metadata": {},
   "outputs": [],
   "source": []
  },
  {
   "cell_type": "markdown",
   "metadata": {
    "pycharm": {
     "name": "#%% md\n"
    }
   },
   "source": [
    "You can also take `slices`"
   ]
  },
  {
   "cell_type": "code",
   "execution_count": null,
   "metadata": {
    "pycharm": {
     "name": "#%%\n"
    }
   },
   "outputs": [],
   "source": [
    "print(l[1:3]) # take the 2nd to 4th element\n",
    "print(t[1:3]) # take the 2nd to 4th element"
   ]
  },
  {
   "cell_type": "markdown",
   "metadata": {
    "pycharm": {
     "name": "#%% md\n"
    }
   },
   "source": [
    "If you want to get elements from the tail of the list/tuple use negative indices"
   ]
  },
  {
   "cell_type": "code",
   "execution_count": null,
   "metadata": {
    "pycharm": {
     "name": "#%%\n"
    }
   },
   "outputs": [],
   "source": [
    "print(l[-1])  # the last element\n",
    "print(t[-1])  # the last element"
   ]
  },
  {
   "cell_type": "markdown",
   "metadata": {
    "pycharm": {
     "name": "#%% md\n"
    }
   },
   "source": [
    "The `:` character can be greedy"
   ]
  },
  {
   "cell_type": "code",
   "execution_count": null,
   "metadata": {
    "pycharm": {
     "name": "#%%\n"
    }
   },
   "outputs": [],
   "source": [
    "print(l[-2:]) # take the last two elements\n",
    "print(t[-2:]) # take the last two elements"
   ]
  },
  {
   "cell_type": "markdown",
   "metadata": {},
   "source": [
    "You can define a step size for the slice"
   ]
  },
  {
   "cell_type": "code",
   "execution_count": 3,
   "metadata": {},
   "outputs": [
    {
     "name": "stdout",
     "output_type": "stream",
     "text": [
      "[1, 3, 5]\n"
     ]
    }
   ],
   "source": [
    "# take every second element\n",
    "print(l[::2])"
   ]
  },
  {
   "cell_type": "markdown",
   "metadata": {},
   "source": [
    "You can test for membership using the `in` keyword"
   ]
  },
  {
   "cell_type": "code",
   "execution_count": 4,
   "metadata": {},
   "outputs": [
    {
     "name": "stdout",
     "output_type": "stream",
     "text": [
      "False\n",
      "True\n"
     ]
    }
   ],
   "source": [
    "print(6 in l)\n",
    "print(2 in l)"
   ]
  },
  {
   "cell_type": "markdown",
   "metadata": {},
   "source": [
    "We'll cover loops in the next module, but as a taster you loop through the values of a list/tuple using a `for` loop"
   ]
  },
  {
   "cell_type": "code",
   "execution_count": 1,
   "metadata": {},
   "outputs": [
    {
     "name": "stdout",
     "output_type": "stream",
     "text": [
      "0\n",
      "1\n",
      "2\n",
      "3\n",
      "4\n",
      "5\n",
      "6\n",
      "7\n",
      "8\n",
      "9\n",
      "10\n",
      "11\n",
      "12\n",
      "13\n",
      "14\n",
      "15\n",
      "16\n",
      "17\n",
      "18\n",
      "19\n",
      "20\n",
      "21\n",
      "22\n",
      "23\n",
      "24\n"
     ]
    }
   ],
   "source": [
    "# range is a method to generate a sequence of numbers as a list\n",
    "c = list(range(25))\n",
    "\n",
    "for val in c:\n",
    "    print(val)\n"
   ]
  },
  {
   "cell_type": "markdown",
   "metadata": {},
   "source": [
    "### Dictionaries\n",
    "Dictionaries are a way of maintaining a key, value set as a variable.  These are similar to hashes or associative arrays in other languages.\n",
    "\n",
    "They use `{}` for initialisation.\n",
    "\n",
    "They are created as follows:"
   ]
  },
  {
   "cell_type": "code",
   "execution_count": 2,
   "metadata": {},
   "outputs": [
    {
     "name": "stdout",
     "output_type": "stream",
     "text": [
      "['Tomato', 'Pear', 'Apple']\n",
      "['Carrot', 'Parsnip']\n"
     ]
    },
    {
     "ename": "KeyError",
     "evalue": "'Pet'",
     "output_type": "error",
     "traceback": [
      "\u001b[0;31m---------------------------------------------------------------------------\u001b[0m",
      "\u001b[0;31mKeyError\u001b[0m                                  Traceback (most recent call last)",
      "\u001b[0;32m<ipython-input-2-9acf3c3c5278>\u001b[0m in \u001b[0;36m<module>\u001b[0;34m\u001b[0m\n\u001b[1;32m      6\u001b[0m \u001b[0;34m\u001b[0m\u001b[0m\n\u001b[1;32m      7\u001b[0m \u001b[0;31m# Asking for a missing value using the [] lookup will raise a KeyError\u001b[0m\u001b[0;34m\u001b[0m\u001b[0;34m\u001b[0m\u001b[0;34m\u001b[0m\u001b[0m\n\u001b[0;32m----> 8\u001b[0;31m \u001b[0mprint\u001b[0m\u001b[0;34m(\u001b[0m\u001b[0mt\u001b[0m\u001b[0;34m[\u001b[0m\u001b[0;34m\"Pet\"\u001b[0m\u001b[0;34m]\u001b[0m\u001b[0;34m)\u001b[0m\u001b[0;34m\u001b[0m\u001b[0;34m\u001b[0m\u001b[0m\n\u001b[0m",
      "\u001b[0;31mKeyError\u001b[0m: 'Pet'"
     ]
    }
   ],
   "source": [
    "t = {\"Fruit\": [\"Tomato\", \"Pear\", \"Apple\"], \"Vegetable\": [\"Carrot\", \"Parsnip\"]}\n",
    "\n",
    "# the accessors for a dictionary are the keys:\n",
    "print(t[\"Fruit\"])\n",
    "print(t[\"Vegetable\"])\n",
    "\n",
    "# Asking for a missing value using the [] lookup will raise a KeyError\n",
    "print(t[\"Pet\"])"
   ]
  },
  {
   "cell_type": "code",
   "execution_count": 3,
   "metadata": {},
   "outputs": [
    {
     "name": "stdout",
     "output_type": "stream",
     "text": [
      "[]\n",
      "None\n"
     ]
    }
   ],
   "source": [
    "# There is another way of accessing elements from a dict using the get method\n",
    "print(t.get(\"Pet\", []))\n",
    "# The `get` syntax tries to get the value for the key, but if it's not found it will return a default value\n",
    "#  in this case an empty list because that's what was passed - but it will default to None\n",
    "print(t.get(\"Pet\"))"
   ]
  },
  {
   "cell_type": "markdown",
   "metadata": {},
   "source": [
    "Dictionaries are a pretty useful data structure, especially for processing nested data.  \n",
    "\n",
    "There are some nice accessors that make life pretty simple"
   ]
  },
  {
   "cell_type": "code",
   "execution_count": 14,
   "metadata": {},
   "outputs": [
    {
     "name": "stdout",
     "output_type": "stream",
     "text": [
      "['Dog', 'Cat', 'Budgie', 'Dog', 'Cat', 'Budgie']\n",
      "['Mac', 'PC', 'Commodore64']\n"
     ]
    }
   ],
   "source": [
    "# setdefault will return the value if it is set, but if it is not it will create a new value and set it to the \n",
    "# value passed as the second argument\n",
    "print(t.get(\"Pet\"))\n",
    "\n",
    "# We'll cover loops in the next document\n",
    "for pet in (\"Dog\", \"Cat\", \"Budgie\"):\n",
    "    t.setdefault(\"Pet\", []).append(pet)\n",
    "\n",
    "print(t[\"Pet\"])\n",
    "\n",
    "# you can create a dictionary using the dict keyword\n",
    "p = dict(mobile_phones=[\"Apple\", \"Samsung\", \"Google\"])\n",
    "print(p)\n",
    "\n",
    "# update will merge two dictionaries together\n",
    "c = dict(Computer=[\"Mac\", \"PC\", \"Commodore64\"]) # this is another way of creating a dictionary\n",
    "t.update(c)\n",
    "\n",
    "print(t[\"Computer\"])"
   ]
  },
  {
   "cell_type": "markdown",
   "metadata": {},
   "source": [
    "Loops with dictionaries are a little different"
   ]
  },
  {
   "cell_type": "code",
   "execution_count": 15,
   "metadata": {},
   "outputs": [
    {
     "name": "stdout",
     "output_type": "stream",
     "text": [
      "Fruit -> ['Tomato', 'Pear', 'Apple']\n",
      "Vegetable -> ['Carrot', 'Parsnip']\n",
      "Pet -> ['Dog', 'Cat', 'Budgie', 'Dog', 'Cat', 'Budgie']\n",
      "Computer -> ['Mac', 'PC', 'Commodore64']\n",
      "Fruit\n",
      "Vegetable\n",
      "Pet\n",
      "Computer\n",
      "['Tomato', 'Pear', 'Apple']\n",
      "['Carrot', 'Parsnip']\n",
      "['Dog', 'Cat', 'Budgie', 'Dog', 'Cat', 'Budgie']\n",
      "['Mac', 'PC', 'Commodore64']\n"
     ]
    }
   ],
   "source": [
    "# the items method returns a tuple of key and value pairs\n",
    "for category, values in t.items():\n",
    "    print(category, \"->\", values)\n",
    "\n",
    "# the keys method returns the list of keys\n",
    "for category in t.keys():\n",
    "    print(category)\n",
    "\n",
    "# the values method returns a list of the values\n",
    "for values in t.values():\n",
    "    print(values)\n"
   ]
  },
  {
   "cell_type": "markdown",
   "metadata": {},
   "source": [
    "The `in` accessor defaults to using the keys"
   ]
  },
  {
   "cell_type": "code",
   "execution_count": 17,
   "metadata": {},
   "outputs": [
    {
     "name": "stdout",
     "output_type": "stream",
     "text": [
      "True\n",
      "False\n",
      "False\n"
     ]
    }
   ],
   "source": [
    "print(\"Computer\" in t)\n",
    "print(\"Astronaut\" in t)\n",
    "print(\"Parsnip\" in t)"
   ]
  },
  {
   "cell_type": "markdown",
   "metadata": {},
   "source": [
    "## Sets\n",
    "\n",
    "Sets are a type of collection, but make the use of set operations (`union`, etc) much more straight forward.  You can take a `list` or `tuple` and convert it to a set using the `set` function.\n"
   ]
  },
  {
   "cell_type": "code",
   "execution_count": 5,
   "metadata": {},
   "outputs": [
    {
     "name": "stdout",
     "output_type": "stream",
     "text": [
      "{1, 3, 5, 7, 9}\n",
      "{1, 3}\n",
      "{9, 5, 7}\n",
      "False\n",
      "{1, 2, 3, 5, 7, 9, 12, 15}\n"
     ]
    }
   ],
   "source": [
    "a = [1, 1, 3, 5, 7, 9]\n",
    "b = [1, 2, 3, 12, 15]\n",
    "\n",
    "# note the deduplication of the source per set theory\n",
    "print(set(a))\n",
    "\n",
    "# take the intersection of two sets (ie the values in both)\n",
    "print(set(a).intersection(set(b)))\n",
    "\n",
    "# take the difference (ie values in a, but not in b)\n",
    "print(set(a).difference(set(b)))\n",
    "\n",
    "# disjoint - are the two sets totally different (no values in common)\n",
    "print(set(a).isdisjoint(set(b)))\n",
    "\n",
    "# union - join all the values together\n",
    "print(set(a).union(set(b)))"
   ]
  },
  {
   "cell_type": "markdown",
   "metadata": {},
   "source": [
    "## Next\n",
    "\n",
    "Up next we're going to look at control flow in Python.  Click [here](03_control_flow.ipynb) to continue.\n",
    "\n",
    "<table><tr>\n",
    "    <td><img src=\"author-geoff%20low%20small.png\"></td>\n",
    "    <td><img src=\"author-sam-hume-small.png\"></td>\n",
    "</tr></table>\n",
    "<img src=\"Logo%20standard.png\" alt=\"PHUSE Education\" style=\"width: 400px;\"/>"
   ]
  },
  {
   "cell_type": "code",
   "execution_count": null,
   "metadata": {},
   "outputs": [],
   "source": []
  }
 ],
 "metadata": {
  "kernelspec": {
   "display_name": "Python 3",
   "language": "python",
   "name": "python3"
  },
  "language_info": {
   "codemirror_mode": {
    "name": "ipython",
    "version": 3
   },
   "file_extension": ".py",
   "mimetype": "text/x-python",
   "name": "python",
   "nbconvert_exporter": "python",
   "pygments_lexer": "ipython3",
   "version": "3.7.6"
  },
  "pycharm": {
   "stem_cell": {
    "cell_type": "raw",
    "metadata": {
     "collapsed": false
    },
    "source": []
   }
  }
 },
 "nbformat": 4,
 "nbformat_minor": 1
}

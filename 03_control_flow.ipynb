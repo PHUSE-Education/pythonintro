{
 "cells": [
  {
   "cell_type": "markdown",
   "metadata": {},
   "source": [
    "![Banner](Banner%20web.jpg)"
   ]
  },
  {
   "cell_type": "markdown",
   "metadata": {},
   "source": [
    "## Control Flow\n",
    "\n",
    "To be able to do anything useful we need to control the flow of data by applying logic to the program.  This section will look at the common control flow directives available in Python.  As you read through this, try to compare to existing languages and tools."
   ]
  },
  {
   "cell_type": "markdown",
   "metadata": {},
   "source": [
    "### Conditional Statements: if, elif and else\n",
    "\n",
    "We can use the `if` keyword to conditionally execute code; \n",
    "* the action of `if`, `elif` and `else` are the same as those in other languages "
   ]
  },
  {
   "cell_type": "code",
   "execution_count": null,
   "metadata": {},
   "outputs": [],
   "source": [
    "# Setup the scenario\n",
    "\n",
    "value = 6\n",
    "\n",
    "# Note: the execution will only take one of the paths here\n",
    "if value < 5:\n",
    "    print(\"Value is less than 5\")\n",
    "elif 6 < value <= 10:\n",
    "    # this is short-hand for if value > 6 and value <= 10\n",
    "    print(\"Value is between 5 and 10\")\n",
    "else:\n",
    "    print(\"Value is greater than 10\")\n"
   ]
  },
  {
   "cell_type": "markdown",
   "metadata": {},
   "source": [
    "This sample code has a bug - can you spot it and fix it?\n",
    "\n",
    "A comment on indentation:\n",
    "* Python uses indentation to designate code blocks, this is usually managed by the tools you use so it is much less of an issue than it once was.\n",
    "* Indentation controls scope; variables introduced and used within an indented block do **not** exist in the *global* scope.\n",
    "* If you need to modify a variable in a indented block and use the modified value elsewhere, just declare it outside.   \n",
    "\n"
   ]
  },
  {
   "cell_type": "code",
   "execution_count": 8,
   "metadata": {},
   "outputs": [
    {
     "name": "stdout",
     "output_type": "stream",
     "text": [
      "4\n",
      "2\n"
     ]
    },
    {
     "ename": "NameError",
     "evalue": "name 'new_tonk' is not defined",
     "output_type": "error",
     "traceback": [
      "\u001b[0;31m---------------------------------------------------------------------------\u001b[0m",
      "\u001b[0;31mNameError\u001b[0m                                 Traceback (most recent call last)",
      "\u001b[0;32m<ipython-input-8-de2b5611e706>\u001b[0m in \u001b[0;36m<module>\u001b[0;34m\u001b[0m\n\u001b[1;32m     12\u001b[0m \u001b[0mprint\u001b[0m\u001b[0;34m(\u001b[0m\u001b[0mtonk\u001b[0m\u001b[0;34m)\u001b[0m\u001b[0;34m\u001b[0m\u001b[0;34m\u001b[0m\u001b[0m\n\u001b[1;32m     13\u001b[0m \u001b[0mprint\u001b[0m\u001b[0;34m(\u001b[0m\u001b[0mblue\u001b[0m\u001b[0;34m)\u001b[0m\u001b[0;34m\u001b[0m\u001b[0;34m\u001b[0m\u001b[0m\n\u001b[0;32m---> 14\u001b[0;31m \u001b[0mprint\u001b[0m\u001b[0;34m(\u001b[0m\u001b[0mnew_tonk\u001b[0m\u001b[0;34m)\u001b[0m\u001b[0;34m\u001b[0m\u001b[0;34m\u001b[0m\u001b[0m\n\u001b[0m\u001b[1;32m     15\u001b[0m \u001b[0;32mdel\u001b[0m\u001b[0;34m(\u001b[0m\u001b[0mnew_tonk\u001b[0m\u001b[0;34m)\u001b[0m\u001b[0;34m\u001b[0m\u001b[0;34m\u001b[0m\u001b[0m\n",
      "\u001b[0;31mNameError\u001b[0m: name 'new_tonk' is not defined"
     ]
    }
   ],
   "source": [
    "# Setup the scenario\n",
    "tonk = 1\n",
    "# change this value\n",
    "blue = 1\n",
    "\n",
    "if blue == 1:\n",
    "    new_tonk = tonk + 2\n",
    "    tonk += 2\n",
    "    print(\"new_tonk:\", new_tonk, \"tonk:\", tonk)\n",
    "else:\n",
    "    tonk += 3\n",
    "\n",
    "print(tonk)\n",
    "print(blue)\n",
    "print(new_tonk)\n",
    "# Scope in Jupyter is a little more global than in a program\n",
    "del(new_tonk)\n"
   ]
  },
  {
   "cell_type": "markdown",
   "metadata": {},
   "source": [
    "### Loops\n",
    "\n",
    "Loops in python operate in the same way as other languages; the keywords are `for` and `while`.  Both keywords operate on `iterable` types\n"
   ]
  },
  {
   "cell_type": "code",
   "execution_count": 9,
   "metadata": {},
   "outputs": [
    {
     "name": "stdout",
     "output_type": "stream",
     "text": [
      "x is 1\n",
      "x is 2\n",
      "x is 3\n",
      "y is 1\n",
      "y is 2\n",
      "y is 3\n",
      "p is  a\n",
      "p is  b\n",
      "p is  c\n"
     ]
    }
   ],
   "source": [
    "# Lists are iterable\n",
    "for x in [1, 2, 3]:\n",
    "    print(\"x is\", x)\n",
    "\n",
    "# Tuples are iterable\n",
    "for y in (1, 2, 3):\n",
    "    print(\"y is\", y)\n",
    "\n",
    "d = dict(a=1, b=2, c=3)\n",
    "# Dictionaries are also iterable\n",
    "for p in d:\n",
    "    print(\"p is \", p)"
   ]
  },
  {
   "cell_type": "code",
   "execution_count": 7,
   "metadata": {},
   "outputs": [
    {
     "name": "stdout",
     "output_type": "stream",
     "text": [
      "0\n",
      "1\n",
      "3\n",
      "6\n",
      "10\n",
      "15\n",
      "21\n",
      "28\n",
      "36\n",
      "45\n",
      "55\n",
      "66\n",
      "78\n",
      "91\n",
      "105\n",
      "120\n",
      "136\n",
      "153\n",
      "171\n",
      "190\n",
      "210\n",
      "231\n",
      "253\n",
      "276\n",
      "300\n",
      "Total for 24! is 300\n"
     ]
    }
   ],
   "source": [
    "# Setup scenario\n",
    "c = 0\n",
    "\n",
    "for i in range(25):\n",
    "    c += i\n",
    "    print(c)\n",
    "else:\n",
    "    # else is a statement that is automatically run on the last iteration\n",
    "    print(\"Total for {}! is {}\".format(i, c))"
   ]
  },
  {
   "cell_type": "markdown",
   "metadata": {},
   "source": [
    "Check out the `help` for the `range` function\n",
    "\n",
    "`while` loops execute until the test defined on the loop is satisfied"
   ]
  },
  {
   "cell_type": "code",
   "execution_count": 11,
   "metadata": {},
   "outputs": [
    {
     "name": "stdout",
     "output_type": "stream",
     "text": [
      "The last factorial less than 200 is 21\n"
     ]
    }
   ],
   "source": [
    "# Setup the test\n",
    "\n",
    "# Carry over the totals\n",
    "total = 0 \n",
    "# use a counter for the factorial\n",
    "counter = 0\n",
    "# define our threshold value\n",
    "threshold = 200\n",
    "\n",
    "while total < threshold:\n",
    "    total += counter\n",
    "    counter += 1\n",
    "print(\"The last factorial less than\",threshold,\"is\",counter)"
   ]
  },
  {
   "cell_type": "markdown",
   "metadata": {},
   "source": [
    "You can use the `continue` keyword to skip onto the next iteration, and `break` to leave the loop "
   ]
  },
  {
   "cell_type": "code",
   "execution_count": 11,
   "metadata": {},
   "outputs": [
    {
     "name": "stdout",
     "output_type": "stream",
     "text": [
      "19\n",
      "5\n",
      "33\n",
      "Exiting\n"
     ]
    }
   ],
   "source": [
    "import random\n",
    "\n",
    "samples = [random.randint(-100, 100) for x in range(100)]\n",
    "\n",
    "for smp in samples:\n",
    "    if smp < 0:\n",
    "        continue\n",
    "    elif smp > 50:\n",
    "        print(\"Exiting as over 50\")\n",
    "        break\n",
    "    else:\n",
    "        print(smp)\n",
    "      "
   ]
  },
  {
   "cell_type": "markdown",
   "metadata": {},
   "source": [
    "## Uses of Control Flow and Operators "
   ]
  },
  {
   "cell_type": "markdown",
   "metadata": {},
   "source": [
    "### Searching for a value in a Tuple or List\n",
    "\n",
    "Both lists and tuples are iterable elements.  This means you can iterate over the set of values.  \n",
    "\n",
    "Let's use this to check and see if a value is in a list (for the purposes of this exercise we'll consider tuples and lists interchangeably) using our control loops "
   ]
  },
  {
   "cell_type": "code",
   "execution_count": null,
   "metadata": {},
   "outputs": [],
   "source": [
    "# define our list to search\n",
    "l = [1, 3, 4, 7, 12, 19, 25]\n",
    "\n",
    "# initialise our variable \n",
    "found = False\n",
    "search_value = 12\n",
    "\n",
    "# now, iterate over the values using a for loop\n",
    "for value in l:\n",
    "    if value == search_value:\n",
    "        found = True  # found our value, mark the search as a success\n",
    "# use a conditional statement to trigger the switch\n",
    "\n",
    "if found is True:  # comparison in the case of boolean variables should use is rather than ==\n",
    "    print(\"Found value\", search_value, \"in\", l)\n",
    "else:  # didn't find the value, report that\n",
    "    print(\"Didn't find value\", search_value, \"in\", l)"
   ]
  },
  {
   "cell_type": "markdown",
   "metadata": {},
   "source": [
    "We can short circuit the search somewhat!"
   ]
  },
  {
   "cell_type": "code",
   "execution_count": null,
   "metadata": {},
   "outputs": [],
   "source": [
    "# define our list to search\n",
    "l = [1, 3, 4, 7, 12, 19, 25]\n",
    "\n",
    "# initialise our variable \n",
    "found = False\n",
    "search_value = 12\n",
    "\n",
    "# now, iterate over the values using a for loop\n",
    "for value in l:\n",
    "    if value == search_value:\n",
    "        found = True  # found our value, mark the search as a success\n",
    "        break         # break stops the iteration\n",
    "\n",
    "if found is True:  # comparison in the case of boolean variables should use is rather than ==\n",
    "    print(\"Found value\", search_value, \"in\", l)\n",
    "else:  # didn't find the value, report that\n",
    "    print(\"Didn't find value\", search_value, \"in\", l)"
   ]
  },
  {
   "cell_type": "markdown",
   "metadata": {},
   "source": [
    "And for the simplest"
   ]
  },
  {
   "cell_type": "code",
   "execution_count": null,
   "metadata": {},
   "outputs": [],
   "source": [
    "# define our list to search\n",
    "l = [1, 3, 4, 7, 12, 19, 25]\n",
    "\n",
    "# initialise our variable \n",
    "search_value = 12\n",
    "\n",
    "# now, iterate over the values using a for loop\n",
    "for value in l:\n",
    "    if value == search_value:\n",
    "        print(\"Found value\", search_value, \"in\", l)\n",
    "        break         # break stops the iteration\n",
    "else:\n",
    "    # else runs at the end of the iteration\n",
    "    print(\"Didn't find value\", search_value, \"in\", l)"
   ]
  },
  {
   "cell_type": "markdown",
   "metadata": {},
   "source": [
    "Say we wanted to know whereabouts the value we searched for is; we can use the `enumerate` function "
   ]
  },
  {
   "cell_type": "code",
   "execution_count": 7,
   "metadata": {},
   "outputs": [
    {
     "name": "stdout",
     "output_type": "stream",
     "text": [
      "Found value 12 at position 4\n"
     ]
    }
   ],
   "source": [
    "# define our list to search\n",
    "l = [1, 3, 4, 7, 12, 19, 25]\n",
    "\n",
    "# initialise our variable \n",
    "search_value = 12\n",
    "\n",
    "# the enumerate function wraps the iteration, and returns a tuple; the index of the current value and the value\n",
    "for i, value in enumerate(l):\n",
    "    if value == search_value:\n",
    "        print(\"Found value\", search_value, \"at position\", i)\n",
    "        break         # break stops the iteration\n",
    "else:\n",
    "    # else runs at the end of the iteration\n",
    "    print(\"Didn't find value\", search_value, \"in\", l)"
   ]
  },
  {
   "cell_type": "markdown",
   "metadata": {},
   "source": [
    "`enumerate` takes a `start` argument, which tells the interpreter what value to start on - by default it is 0\n",
    "\n",
    "Those of you who have read ahead will know an easier way..."
   ]
  },
  {
   "cell_type": "code",
   "execution_count": 8,
   "metadata": {},
   "outputs": [
    {
     "name": "stdout",
     "output_type": "stream",
     "text": [
      "Found value 12 at 4\n"
     ]
    }
   ],
   "source": [
    "# define our list to search\n",
    "l = [1, 3, 4, 7, 12, 19, 25]\n",
    "\n",
    "# the in operator implements a search for a value\n",
    "if 12 in l:\n",
    "    # the index accessor on an iterable returns the first location the value is found\n",
    "    print(\"Found value\", search_value, \"at position\", l.index(12))  \n",
    "else:\n",
    "    print(\"Didn't find value\", search_value, \"in\", l)"
   ]
  },
  {
   "cell_type": "markdown",
   "metadata": {},
   "source": [
    "Now, an exercise for you!  Using what we've discussed prior, create the code to work out the mean for the following list:"
   ]
  },
  {
   "cell_type": "code",
   "execution_count": null,
   "metadata": {},
   "outputs": [],
   "source": [
    "c = [23, -57, -87, -17, 29, -5, 22, 66, -52, -9, 63, -47, 64, -83, 55, -15, 91, 39, -66, -28, 34, -65, 42, -94, 62, 1, 71, -79, -29, -32, 45, -50, -51, 5, -39, 45, -29, -38, -70, -58, -57, 35, -18, -72, -43, -34, -63, 74, -36, 70]\n"
   ]
  },
  {
   "cell_type": "markdown",
   "metadata": {},
   "source": [
    "### List comprehensions\n",
    "List comprehensions are a bit of **syntatic sugar**, it allows you to create a list according to a function.  As an example; if we wanted to get all the positive values for `c` we can use the following list comprehension"
   ]
  },
  {
   "cell_type": "code",
   "execution_count": null,
   "metadata": {},
   "outputs": [],
   "source": [
    "positive_c = [x for x in c if x >= 0]"
   ]
  },
  {
   "cell_type": "markdown",
   "metadata": {},
   "source": [
    "Or, get the absolute values for all the elements (note, this doesn't change the original list)"
   ]
  },
  {
   "cell_type": "code",
   "execution_count": null,
   "metadata": {},
   "outputs": [],
   "source": [
    "abs_val = [abs(x) for x in c]  # abs is a python builtin to take the absolute value"
   ]
  },
  {
   "cell_type": "markdown",
   "metadata": {},
   "source": [
    "Loops with dictionaries are a little different"
   ]
  },
  {
   "cell_type": "code",
   "execution_count": 15,
   "metadata": {},
   "outputs": [
    {
     "name": "stdout",
     "output_type": "stream",
     "text": [
      "Fruit -> ['Tomato', 'Pear', 'Apple']\n",
      "Vegetable -> ['Carrot', 'Parsnip']\n",
      "Pet -> ['Dog', 'Cat', 'Budgie', 'Dog', 'Cat', 'Budgie']\n",
      "Computer -> ['Mac', 'PC', 'Commodore64']\n",
      "Fruit\n",
      "Vegetable\n",
      "Pet\n",
      "Computer\n",
      "['Tomato', 'Pear', 'Apple']\n",
      "['Carrot', 'Parsnip']\n",
      "['Dog', 'Cat', 'Budgie', 'Dog', 'Cat', 'Budgie']\n",
      "['Mac', 'PC', 'Commodore64']\n"
     ]
    }
   ],
   "source": [
    "# items returns a tuple of key and value pairs\n",
    "for category, values in t.items():\n",
    "    print(category, \"->\", values)\n",
    "\n",
    "# keys returns the list of keys\n",
    "for category in t.keys():\n",
    "    print(category)\n",
    "\n",
    "# values returns a list of the values\n",
    "for values in t.values():\n",
    "    print(values)\n"
   ]
  },
  {
   "cell_type": "markdown",
   "metadata": {},
   "source": [
    "The `in` accessor defaults to using the keys"
   ]
  },
  {
   "cell_type": "code",
   "execution_count": 17,
   "metadata": {},
   "outputs": [
    {
     "name": "stdout",
     "output_type": "stream",
     "text": [
      "True\n",
      "False\n",
      "False\n"
     ]
    }
   ],
   "source": [
    "print(\"Computer\" in t)\n",
    "print(\"Astronaut\" in t)\n",
    "print(\"Parsnip\" in t)"
   ]
  },
  {
   "cell_type": "markdown",
   "metadata": {},
   "source": [
    "## Next\n",
    "\n",
    "Next, we're going to look at functions and libraries.  Click [here](./04_functions_and_libraries.ipynb) to continue.\n",
    "\n",
    "\n",
    "<table><tr>\n",
    "    <td><img src=\"author-geoff%20low%20small.png\"></td>\n",
    "    <td><img src=\"author-sam-hume-small.png\"></td>\n",
    "</tr></table>\n",
    "<img src=\"Logo%20standard.png\" alt=\"PHUSE Education\" style=\"width: 400px;\"/>"
   ]
  },
  {
   "cell_type": "code",
   "execution_count": null,
   "metadata": {},
   "outputs": [],
   "source": []
  }
 ],
 "metadata": {
  "kernelspec": {
   "display_name": "Python 3",
   "language": "python",
   "name": "python3"
  },
  "language_info": {
   "codemirror_mode": {
    "name": "ipython",
    "version": 3
   },
   "file_extension": ".py",
   "mimetype": "text/x-python",
   "name": "python",
   "nbconvert_exporter": "python",
   "pygments_lexer": "ipython3",
   "version": "3.7.6"
  },
  "pycharm": {
   "stem_cell": {
    "cell_type": "raw",
    "metadata": {
     "collapsed": false
    },
    "source": []
   }
  }
 },
 "nbformat": 4,
 "nbformat_minor": 1
}

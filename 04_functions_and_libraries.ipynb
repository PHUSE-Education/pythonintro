{
 "cells": [
  {
   "cell_type": "markdown",
   "metadata": {},
   "source": [
    "![Banner](Banner%20web.jpg)"
   ]
  },
  {
   "cell_type": "markdown",
   "metadata": {},
   "source": [
    "## Functions\n",
    "\n",
    "Rather than writing out everything, every time you can bundle a set of code into a function and then call the function.  A function is defined using the `def` keyword.  \n",
    "\n",
    "If we wanted to have a function to calculate the mean for a list we could simply define this:"
   ]
  },
  {
   "cell_type": "code",
   "execution_count": 2,
   "metadata": {},
   "outputs": [],
   "source": [
    "def calculate_mean(some_list):\n",
    "    total = sum(some_list)  # We could do this manually, but it's easier to use the sum function\n",
    "    count = len(some_list)  \n",
    "    return total / count\n"
   ]
  },
  {
   "cell_type": "markdown",
   "metadata": {},
   "source": [
    "We can then use the function to carry out what we need"
   ]
  },
  {
   "cell_type": "code",
   "execution_count": 3,
   "metadata": {},
   "outputs": [
    {
     "name": "stdout",
     "output_type": "stream",
     "text": [
      "3.0\n"
     ]
    }
   ],
   "source": [
    "c = calculate_mean([1,2,3,4,5])\n",
    "print(c)"
   ]
  },
  {
   "cell_type": "markdown",
   "metadata": {},
   "source": [
    "Functions return a value with the `return` statement.  If a function doesn't have a `return` statement, the function returns `None`.\n",
    "\n",
    "Functions usually pass by *reference*, this means the object is changed in the function. "
   ]
  },
  {
   "cell_type": "code",
   "execution_count": 5,
   "metadata": {},
   "outputs": [
    {
     "name": "stdout",
     "output_type": "stream",
     "text": [
      "{'value': 2.0}\n",
      "{'value': 2.0, 'double': 4.0}\n"
     ]
    }
   ],
   "source": [
    "a = dict(value=2.0)\n",
    "\n",
    "def double_it(d):\n",
    "    d[\"double\"] = d[\"value\"] * 2\n",
    "\n",
    "print(a)\n",
    "double_it(a)\n",
    "print(a)\n"
   ]
  },
  {
   "cell_type": "markdown",
   "metadata": {},
   "source": [
    "Now an exercise for you:\n",
    "* Create a function that calculates the root mean squared error for a predicted vs an actual \n"
   ]
  },
  {
   "cell_type": "code",
   "execution_count": null,
   "metadata": {},
   "outputs": [],
   "source": [
    "predicted = [1, 3, 6, 9, 12, 15]\n",
    "actual = [0, 4, 10, 15, 20, 25]\n",
    "\n",
    "def root_mean_squared_error(predicted_values, actual_values):\n",
    "    # You need to check and see whether the lists are the same length\n",
    "    # Calculate the deltas\n",
    "    # Square the values\n",
    "    # Calculate the mean value\n",
    "    # Take the square root of it\n",
    "    # return the value\n",
    "    pass"
   ]
  },
  {
   "cell_type": "markdown",
   "metadata": {},
   "source": [
    "### The importance of documentation\n",
    "\n",
    "It's always important to make use of the expressiveness of Python.  \n",
    "\n",
    "Here are some general recommendations:\n",
    "* Use snake_case, rather than camelCase or PascalCase for variables\n",
    "  * if you build classes use `PascalCase` \n",
    "  * check out [PEP-8](https://www.python.org/dev/peps/pep-0008/#naming-conventions) for the official guidance; most editors will include some syntax checkers\n",
    "* Use **good** names; `a` is less comprehensible than `sum_of_terms`\n",
    "  * This applies to functions as well as variables\n",
    "* You can use a triple quoted codeblock in the start of a function to document the function, input variables and output - editors can take advantage of this for code completion, type checking and other conveniences\n",
    "\n",
    "```python\n",
    "def camel_to_snake(name):\n",
    "    \"\"\"\n",
    "    Convert a CamelCase name into a snake case string\n",
    "    :param str name: camel case name\n",
    "    :rtype: str\n",
    "    :return: the transformed name \n",
    "    \"\"\"\n",
    "    a = re.compile(r'((?<=[a-z0-9])[A-Z]|(?!^)[A-Z](?=[a-z]))')\n",
    "    return a.sub(r'_\\1', name).lower()\n",
    "\n",
    "```"
   ]
  },
  {
   "cell_type": "markdown",
   "metadata": {},
   "source": [
    "## Python Modules\n",
    "\n",
    "As you create more and more functions it makes sense to package them up into `modules`.  \n",
    "\n",
    "A python module is a package of functionality that you can use by importing it into your program when you need it.  Python has a set of modules included in the core distribution - these are called the stdlib (or standard lib).  They cover a superset of functionality that any programmer might need to build applications.  You can check out the stdlib documentation at [Python Standard Library documentation](https://docs.python.org/3/library/).\n",
    "\n",
    "In Jupyter each cell you run updates the current environment; if you don't run the cell with the import statement then the module won't be available.\n",
    "\n",
    "As an example, we've worked with functions and loops to calculate the mean of a list of integer values; we can instead use the built in `statistics` module to calculate the mean (and some other representative statistics)."
   ]
  },
  {
   "cell_type": "code",
   "execution_count": 6,
   "metadata": {},
   "outputs": [
    {
     "name": "stdout",
     "output_type": "stream",
     "text": [
      "Random values: [23, 21, 1, 21, 12, 1, 20, 4, 32, 3, 2, 23, 1, 28, 17, 8, 22, 35, 26, 10, 18, 26, 10, 30, 31, 19, 31, 25, 3, 21, 5, 33, 25, 27, 18, 15, 2, 3, 7, 35, 22, 15, 13, 3, 3, 20, 21, 18, 28, 15, 19, 2, 28, 1, 35, 30, 5, 25, 11]\n",
      "Mean: 17.084745762711865\n",
      "Median: 19\n",
      "Standard Deviation: 10.762784115506898\n",
      "Mode: 3\n"
     ]
    }
   ],
   "source": [
    "from statistics import mean, mode, median, stdev\n",
    "from random import randint\n",
    "\n",
    "length = 60\n",
    "\n",
    "a = [randint(1,35) for x in range(1, length)]\n",
    "print(\"Random values:\",a)\n",
    "print(\"Mean:\", mean(a))\n",
    "print(\"Median:\", median(a))\n",
    "print(\"Standard Deviation:\", stdev(a))\n",
    "print(\"Mode:\", mode(a))\n"
   ]
  },
  {
   "cell_type": "markdown",
   "metadata": {},
   "source": [
    "Much simpler!  \n",
    "\n",
    "We used the `randint` function from the `random` module to generate a pseudo-random integer value (between the values of 1 and 35 in this case).  \n",
    "\n",
    "If you want to know more about what a module contains you can use the builtin function `dir` - this will list all the elements the module exports.  In python there is no real 'data encapsulation' - no components are really private.  Elements that are not expected to be used by external calls are named with underscores (eg in the list shown below   "
   ]
  },
  {
   "cell_type": "code",
   "execution_count": 3,
   "metadata": {},
   "outputs": [
    {
     "data": {
      "text/plain": [
       "['BPF',\n",
       " 'LOG4',\n",
       " 'NV_MAGICCONST',\n",
       " 'RECIP_BPF',\n",
       " 'Random',\n",
       " 'SG_MAGICCONST',\n",
       " 'SystemRandom',\n",
       " 'TWOPI',\n",
       " '_BuiltinMethodType',\n",
       " '_MethodType',\n",
       " '_Sequence',\n",
       " '_Set',\n",
       " '__all__',\n",
       " '__builtins__',\n",
       " '__cached__',\n",
       " '__doc__',\n",
       " '__file__',\n",
       " '__loader__',\n",
       " '__name__',\n",
       " '__package__',\n",
       " '__spec__',\n",
       " '_acos',\n",
       " '_bisect',\n",
       " '_ceil',\n",
       " '_cos',\n",
       " '_e',\n",
       " '_exp',\n",
       " '_inst',\n",
       " '_itertools',\n",
       " '_log',\n",
       " '_os',\n",
       " '_pi',\n",
       " '_random',\n",
       " '_sha512',\n",
       " '_sin',\n",
       " '_sqrt',\n",
       " '_test',\n",
       " '_test_generator',\n",
       " '_urandom',\n",
       " '_warn',\n",
       " 'betavariate',\n",
       " 'choice',\n",
       " 'choices',\n",
       " 'expovariate',\n",
       " 'gammavariate',\n",
       " 'gauss',\n",
       " 'getrandbits',\n",
       " 'getstate',\n",
       " 'lognormvariate',\n",
       " 'normalvariate',\n",
       " 'paretovariate',\n",
       " 'randint',\n",
       " 'random',\n",
       " 'randrange',\n",
       " 'sample',\n",
       " 'seed',\n",
       " 'setstate',\n",
       " 'shuffle',\n",
       " 'triangular',\n",
       " 'uniform',\n",
       " 'vonmisesvariate',\n",
       " 'weibullvariate']"
      ]
     },
     "execution_count": 3,
     "metadata": {},
     "output_type": "execute_result"
    }
   ],
   "source": [
    "import random\n",
    "dir(random)"
   ]
  },
  {
   "cell_type": "markdown",
   "metadata": {},
   "source": [
    "You can use the `help` built in function to present the documentation for a given module: "
   ]
  },
  {
   "cell_type": "code",
   "execution_count": 10,
   "metadata": {},
   "outputs": [
    {
     "name": "stdout",
     "output_type": "stream",
     "text": [
      "Help on method randint in module random:\n",
      "\n",
      "randint(a, b) method of random.Random instance\n",
      "    Return random integer in range [a, b], including both end points.\n",
      "\n"
     ]
    }
   ],
   "source": [
    "help(random.randint)"
   ]
  },
  {
   "cell_type": "markdown",
   "metadata": {},
   "source": [
    "The stdlib is in general good enough for most of what you might want to do; in cases where extensions are warranted then people create libraries and make them available through the Python Packaging Initiative.  You can search for packages on [PyPI](https://pypi.org/)\n"
   ]
  },
  {
   "cell_type": "markdown",
   "metadata": {},
   "source": [
    "Python uses the module name as a namespace for the functions therein - we imported the `random` module above, but we have no way of accessing the functions directly\n"
   ]
  },
  {
   "cell_type": "code",
   "execution_count": 4,
   "metadata": {},
   "outputs": [
    {
     "ename": "NameError",
     "evalue": "name 'randint' is not defined",
     "output_type": "error",
     "traceback": [
      "\u001b[0;31m---------------------------------------------------------------------------\u001b[0m",
      "\u001b[0;31mNameError\u001b[0m                                 Traceback (most recent call last)",
      "\u001b[0;32m<ipython-input-4-fc1f7f679a29>\u001b[0m in \u001b[0;36m<module>\u001b[0;34m\u001b[0m\n\u001b[1;32m      1\u001b[0m \u001b[0;31m# this will give us a NameError as it has no way of looking up the function\u001b[0m\u001b[0;34m\u001b[0m\u001b[0;34m\u001b[0m\u001b[0;34m\u001b[0m\u001b[0m\n\u001b[0;32m----> 2\u001b[0;31m \u001b[0mprint\u001b[0m\u001b[0;34m(\u001b[0m\u001b[0mrandint\u001b[0m\u001b[0;34m(\u001b[0m\u001b[0;36m0\u001b[0m\u001b[0;34m,\u001b[0m \u001b[0;36m100\u001b[0m\u001b[0;34m)\u001b[0m\u001b[0;34m)\u001b[0m\u001b[0;34m\u001b[0m\u001b[0;34m\u001b[0m\u001b[0m\n\u001b[0m",
      "\u001b[0;31mNameError\u001b[0m: name 'randint' is not defined"
     ]
    }
   ],
   "source": [
    "# this will give us a NameError as it has no way of looking up the function\n",
    "print(randint(0, 100))\n"
   ]
  },
  {
   "cell_type": "code",
   "execution_count": 5,
   "metadata": {},
   "outputs": [
    {
     "name": "stdout",
     "output_type": "stream",
     "text": [
      "68\n"
     ]
    }
   ],
   "source": [
    "# We specify where to look for the function through the namespace\n",
    "print(random.randint(0, 100))"
   ]
  },
  {
   "cell_type": "markdown",
   "metadata": {},
   "source": [
    "## Import Syntax\n",
    "\n",
    "When you use a module, you import it into your current python environment.  \n",
    "\n",
    "You can import a module:\n",
    "```python\n",
    "import statistics\n",
    "\n",
    "statistics.mean([0,1,2,3,4,5])\n",
    "```\n",
    "or, you can import one or more functions from a module\n",
    "```python\n",
    "from statistics import mean\n",
    "\n",
    "mean([0,1,2,3,4,5])\n",
    "```\n",
    "or you can import all the functions from a module\n",
    "```python\n",
    "from statistics import *\n",
    "\n",
    "mean([0,1,2,3,4,5])\n",
    "```\n",
    "**NOTE** - don't import all functions from a module, it loads everything into memory\n",
    "\n"
   ]
  },
  {
   "cell_type": "code",
   "execution_count": null,
   "metadata": {},
   "outputs": [],
   "source": [
    "# Example import module and then reference\n",
    "import random\n",
    "\n",
    "print(random.randint(0, 100))"
   ]
  },
  {
   "cell_type": "code",
   "execution_count": null,
   "metadata": {},
   "outputs": [],
   "source": [
    "from random import randint\n",
    "\n",
    "# I can now use randint directly (ie without the module namespace)\n",
    "print(randint(0, 100))\n"
   ]
  },
  {
   "cell_type": "markdown",
   "metadata": {},
   "source": [
    "There is also syntax to allow you to import all the components of a module, although this is generally frowned upon (why load things into memory that you're never going to use)."
   ]
  },
  {
   "cell_type": "code",
   "execution_count": 6,
   "metadata": {},
   "outputs": [
    {
     "name": "stdout",
     "output_type": "stream",
     "text": [
      "1.1811150608549184\n"
     ]
    }
   ],
   "source": [
    "# Don't do this!\n",
    "from random import *\n",
    "print(gauss(1.2, 0.2))\n",
    "# If you're interested in what this function is\n",
    "# help(random.gauss) "
   ]
  },
  {
   "cell_type": "markdown",
   "metadata": {},
   "source": [
    "You can also *alias* the module you import, to cut down the number of characters you need to type."
   ]
  },
  {
   "cell_type": "code",
   "execution_count": null,
   "metadata": {},
   "outputs": [],
   "source": [
    "import pandas as pd"
   ]
  },
  {
   "cell_type": "markdown",
   "metadata": {},
   "source": [
    "## Project Setup\n",
    "\n",
    "When you create a project you need to specify what dependencies the project has; the convention for doing this in Python is by use of a `requirements.txt` file.  If you look in the project folder for this file you can see the following contents\n",
    "\n",
    "```\n",
    "jupyter\n",
    "pandas\n",
    "numpy\n",
    "requests\n",
    "```\n",
    "\n",
    "This tells the user what dependencies this project has - in this case we need jupyter to provide the notebooks we are using now; we will cover `pandas` and `numpy` in the next module (they make data engineering and data science **much** easier) and we will cover `requests` in the final module.\n",
    "\n",
    "When you share the project you should ensure that your dependencies are up to date.  List what modules you have installed using the `pip` tool"
   ]
  },
  {
   "cell_type": "code",
   "execution_count": 1,
   "metadata": {},
   "outputs": [
    {
     "name": "stdout",
     "output_type": "stream",
     "text": [
      "Package            Version  \r\n",
      "------------------ ---------\r\n",
      "appnope            0.1.0    \r\n",
      "attrs              19.1.0   \r\n",
      "backcall           0.1.0    \r\n",
      "bleach             3.1.0    \r\n",
      "certifi            2019.6.16\r\n",
      "chardet            3.0.4    \r\n",
      "decorator          4.4.0    \r\n",
      "defusedxml         0.6.0    \r\n",
      "entrypoints        0.3      \r\n",
      "idna               2.8      \r\n",
      "ipykernel          5.1.2    \r\n",
      "ipython            7.8.0    \r\n",
      "ipython-genutils   0.2.0    \r\n",
      "ipywidgets         7.5.1    \r\n",
      "jedi               0.15.1   \r\n",
      "Jinja2             2.10.1   \r\n",
      "jsonschema         3.0.2    \r\n",
      "jupyter            1.0.0    \r\n",
      "jupyter-client     5.3.1    \r\n",
      "jupyter-console    6.0.0    \r\n",
      "jupyter-core       4.5.0    \r\n",
      "MarkupSafe         1.1.1    \r\n",
      "mistune            0.8.4    \r\n",
      "nbconvert          5.6.0    \r\n",
      "nbformat           4.4.0    \r\n",
      "notebook           6.0.1    \r\n",
      "numpy              1.17.1   \r\n",
      "pandas             0.25.1   \r\n",
      "pandocfilters      1.4.2    \r\n",
      "parso              0.5.1    \r\n",
      "pexpect            4.7.0    \r\n",
      "pickleshare        0.7.5    \r\n",
      "pip                19.2.3   \r\n",
      "prometheus-client  0.7.1    \r\n",
      "prompt-toolkit     2.0.9    \r\n",
      "ptyprocess         0.6.0    \r\n",
      "Pygments           2.4.2    \r\n",
      "pyrsistent         0.15.4   \r\n",
      "python-dateutil    2.8.0    \r\n",
      "pytz               2019.2   \r\n",
      "pyzmq              18.1.0   \r\n",
      "qtconsole          4.5.4    \r\n",
      "requests           2.22.0   \r\n",
      "Send2Trash         1.5.0    \r\n",
      "setuptools         40.8.0   \r\n",
      "six                1.12.0   \r\n",
      "terminado          0.8.2    \r\n",
      "testpath           0.4.2    \r\n",
      "tornado            6.0.3    \r\n",
      "traitlets          4.3.2    \r\n",
      "urllib3            1.25.3   \r\n",
      "wcwidth            0.1.7    \r\n",
      "webencodings       0.5.1    \r\n",
      "widgetsnbextension 3.5.1    \r\n"
     ]
    }
   ],
   "source": [
    "!pip list"
   ]
  },
  {
   "cell_type": "markdown",
   "metadata": {},
   "source": [
    "Note that the output of the previous command does not include only the 4 modules we listed above, the reason is that each of our dependencies will also have dependencies (the `pip list` will list all the installed modules).\n",
    "\n",
    "Now, update the `requirements.txt` to add `matplotlib` to the end of the file"
   ]
  },
  {
   "cell_type": "code",
   "execution_count": null,
   "metadata": {},
   "outputs": [],
   "source": [
    "!pip install -r requirements.txt"
   ]
  },
  {
   "cell_type": "markdown",
   "metadata": {},
   "source": [
    "## Simple Input and Output \n",
    "One of the most common activities is opening, reading and writing a file.  There are a couple of libraries in the stdlib that make this simple.  Firstly, we are going to use the `os` module to handle cases such as ensuring the file we are looking for exists in a platform independent way. "
   ]
  },
  {
   "cell_type": "code",
   "execution_count": 3,
   "metadata": {},
   "outputs": [
    {
     "name": "stdout",
     "output_type": "stream",
     "text": [
      "/Users/glow/Documents/Devel/PycharmProjects/phuse_eu_connect_python\n",
      "/Users/glow/Documents/Devel/PycharmProjects\n",
      "True\n",
      "False\n"
     ]
    }
   ],
   "source": [
    "import os\n",
    "\n",
    "# gets the current directory\n",
    "print(os.getcwd())\n",
    "\n",
    "# get the parent directory\n",
    "print(os.path.dirname(os.getcwd()))\n",
    "\n",
    "# establish that the requirements.txt file exists\n",
    "print(os.path.exists(os.path.join(os.getcwd(), \"requirements.txt\")))\n",
    "\n",
    "# establish that the fruitbowl.txt file does not exist\n",
    "print(os.path.exists(os.path.join(os.getcwd(), \"fruitbowl.txt\")))\n"
   ]
  },
  {
   "cell_type": "markdown",
   "metadata": {},
   "source": [
    "Notice we used the `os.path.join` function above - this will join a path together in an OS independent way; on a Windows Machine it will use the `\\` character and on a Linux/OSX machine it will use the `/` character.  \n",
    "\n",
    "**NOTE**: Always write your code with no base assumption about where it's going to be run!"
   ]
  },
  {
   "cell_type": "markdown",
   "metadata": {},
   "source": [
    "Now we're going to open a file for reading; in this case it is a dump of conditions from the FAERS dataset and exported as a CSV"
   ]
  },
  {
   "cell_type": "code",
   "execution_count": 4,
   "metadata": {},
   "outputs": [
    {
     "name": "stdout",
     "output_type": "stream",
     "text": [
      "CONDITION,COUNT\n",
      "Drug hypersensitivity,9681\n",
      "Muscular weakness,2497\n",
      "Rash,10745\n",
      "Urticaria,3885\n",
      "Adverse event,2100\n",
      "Antinuclear antibody positive,63\n",
      "Autoantibody positive,6\n",
      "Autoimmune disorder,163\n",
      "Double stranded DNA antibody positive,5\n",
      "Infection,3659\n",
      "Neoplasm malignant,1087\n",
      "Opportunistic infection,38\n",
      "Abdominal pain lower,498\n",
      "Anaemia,4261\n",
      "Asthenia,8367\n",
      "Fatigue,17972\n",
      "Medication error,562\n",
      "Poor quality sleep,500\n",
      "Splenomegaly,323\n",
      "Aneurysm,110\n",
      "Dry skin,6886\n",
      "Glossodynia,261\n",
      "Nephrolithiasis,1271\n",
      "Skin wrinkling,79\n",
      "Urinary tract infection,4123\n",
      "Anxiety,6709\n",
      "Blood pressure increased,3801\n",
      "Metastases to liver,444\n",
      "Metastases to pancreas,11\n",
      "Nervousness,1015\n",
      "Nodule,335\n",
      "Ovarian disorder,17\n",
      "Palmar erythema,35\n",
      "Post procedural discharge,25\n",
      "Post procedural swelling,36\n",
      "Pyogenic granuloma,12\n",
      "Scar,437\n",
      "Stress,1718\n",
      "Thrombophlebitis,71\n",
      "Coma,1035\n",
      "Gastrooesophageal reflux disease,1845\n",
      "Pneumonia aspiration,585\n",
      "Somnolence,4679\n",
      "Atrial septal defect,151\n",
      "Congenital hydronephrosis,15\n",
      "Congenital ureteric anomaly,1\n",
      "Maternal ex\n"
     ]
    }
   ],
   "source": [
    "# we open the file with a context manager, this with automatically close the file for us\n",
    "with open(\"condition.csv\", \"r\") as fh:\n",
    "    contents = fh.read()\n",
    "\n",
    "# print the first 100 characters\n",
    "print(contents[:100])"
   ]
  },
  {
   "cell_type": "markdown",
   "metadata": {},
   "source": [
    "So, we opened the file and we can see the content.  We want to be able to do some useful work with that however so we need to be able to treat the data correctly. \n",
    "\n",
    "As a first step, let's break up the file by lines"
   ]
  },
  {
   "cell_type": "code",
   "execution_count": 6,
   "metadata": {},
   "outputs": [
    {
     "name": "stdout",
     "output_type": "stream",
     "text": [
      "There are 12000 conditions\n"
     ]
    }
   ],
   "source": [
    "lines = contents.split('\\n')\n",
    "print(\"There are\",len(lines) - 2,\"conditions\")"
   ]
  },
  {
   "cell_type": "markdown",
   "metadata": {},
   "source": [
    "And then split the lines into condition and count"
   ]
  },
  {
   "cell_type": "code",
   "execution_count": 8,
   "metadata": {},
   "outputs": [
    {
     "name": "stdout",
     "output_type": "stream",
     "text": [
      "11999\n",
      "['Metabolic acidosis', '587']\n"
     ]
    }
   ],
   "source": [
    "frequency = []\n",
    "\n",
    "for line in lines[1:]:\n",
    "    if line:\n",
    "        frequency.append(line.split(','))\n",
    "\n",
    "print(len(frequency))\n",
    "print(frequency[100])"
   ]
  },
  {
   "cell_type": "markdown",
   "metadata": {},
   "source": [
    "So we've loaded the contents and the parsed them out and got a list of lists; lets dig a little deeper.  How many total instances of conditions are there?  We can use the sum function here:\n"
   ]
  },
  {
   "cell_type": "code",
   "execution_count": 11,
   "metadata": {},
   "outputs": [
    {
     "name": "stdout",
     "output_type": "stream",
     "text": [
      "['Drug hypersensitivity', '9681']\n"
     ]
    },
    {
     "ename": "ValueError",
     "evalue": "invalid literal for int() with base 10: ' insomnia type\"'",
     "output_type": "error",
     "traceback": [
      "\u001b[0;31m---------------------------------------------------------------------------\u001b[0m",
      "\u001b[0;31mValueError\u001b[0m                                Traceback (most recent call last)",
      "\u001b[0;32m<ipython-input-11-fb201ad26879>\u001b[0m in \u001b[0;36m<module>\u001b[0;34m\u001b[0m\n\u001b[1;32m      1\u001b[0m \u001b[0mprint\u001b[0m\u001b[0;34m(\u001b[0m\u001b[0mfrequency\u001b[0m\u001b[0;34m[\u001b[0m\u001b[0;36m0\u001b[0m\u001b[0;34m]\u001b[0m\u001b[0;34m)\u001b[0m\u001b[0;34m\u001b[0m\u001b[0;34m\u001b[0m\u001b[0m\n\u001b[0;32m----> 2\u001b[0;31m \u001b[0mtotal\u001b[0m \u001b[0;34m=\u001b[0m \u001b[0msum\u001b[0m\u001b[0;34m(\u001b[0m\u001b[0;34m[\u001b[0m\u001b[0mint\u001b[0m\u001b[0;34m(\u001b[0m\u001b[0mx\u001b[0m\u001b[0;34m[\u001b[0m\u001b[0;36m1\u001b[0m\u001b[0;34m]\u001b[0m\u001b[0;34m)\u001b[0m \u001b[0;32mfor\u001b[0m \u001b[0mx\u001b[0m \u001b[0;32min\u001b[0m \u001b[0mfrequency\u001b[0m\u001b[0;34m]\u001b[0m\u001b[0;34m)\u001b[0m\u001b[0;34m\u001b[0m\u001b[0;34m\u001b[0m\u001b[0m\n\u001b[0m\u001b[1;32m      3\u001b[0m \u001b[0mprint\u001b[0m\u001b[0;34m(\u001b[0m\u001b[0;34m\"There were\"\u001b[0m\u001b[0;34m,\u001b[0m \u001b[0mtotal\u001b[0m\u001b[0;34m,\u001b[0m \u001b[0;34m\"records\"\u001b[0m\u001b[0;34m)\u001b[0m\u001b[0;34m\u001b[0m\u001b[0;34m\u001b[0m\u001b[0m\n",
      "\u001b[0;32m<ipython-input-11-fb201ad26879>\u001b[0m in \u001b[0;36m<listcomp>\u001b[0;34m(.0)\u001b[0m\n\u001b[1;32m      1\u001b[0m \u001b[0mprint\u001b[0m\u001b[0;34m(\u001b[0m\u001b[0mfrequency\u001b[0m\u001b[0;34m[\u001b[0m\u001b[0;36m0\u001b[0m\u001b[0;34m]\u001b[0m\u001b[0;34m)\u001b[0m\u001b[0;34m\u001b[0m\u001b[0;34m\u001b[0m\u001b[0m\n\u001b[0;32m----> 2\u001b[0;31m \u001b[0mtotal\u001b[0m \u001b[0;34m=\u001b[0m \u001b[0msum\u001b[0m\u001b[0;34m(\u001b[0m\u001b[0;34m[\u001b[0m\u001b[0mint\u001b[0m\u001b[0;34m(\u001b[0m\u001b[0mx\u001b[0m\u001b[0;34m[\u001b[0m\u001b[0;36m1\u001b[0m\u001b[0;34m]\u001b[0m\u001b[0;34m)\u001b[0m \u001b[0;32mfor\u001b[0m \u001b[0mx\u001b[0m \u001b[0;32min\u001b[0m \u001b[0mfrequency\u001b[0m\u001b[0;34m]\u001b[0m\u001b[0;34m)\u001b[0m\u001b[0;34m\u001b[0m\u001b[0;34m\u001b[0m\u001b[0m\n\u001b[0m\u001b[1;32m      3\u001b[0m \u001b[0mprint\u001b[0m\u001b[0;34m(\u001b[0m\u001b[0;34m\"There were\"\u001b[0m\u001b[0;34m,\u001b[0m \u001b[0mtotal\u001b[0m\u001b[0;34m,\u001b[0m \u001b[0;34m\"records\"\u001b[0m\u001b[0;34m)\u001b[0m\u001b[0;34m\u001b[0m\u001b[0;34m\u001b[0m\u001b[0m\n",
      "\u001b[0;31mValueError\u001b[0m: invalid literal for int() with base 10: ' insomnia type\"'"
     ]
    }
   ],
   "source": [
    "total = sum([int(x[1]) for x in frequency])\n",
    "print(\"There were\", total, \"records\")"
   ]
  },
  {
   "cell_type": "markdown",
   "metadata": {},
   "source": [
    "Ouch, that didn't work!  It looks like splitting the lines based on newline characters and commas won't take into account cases where the condition includes a comma.  It's time to use a module called `csv`"
   ]
  },
  {
   "cell_type": "code",
   "execution_count": 14,
   "metadata": {},
   "outputs": [
    {
     "name": "stdout",
     "output_type": "stream",
     "text": [
      "There are 11999 conditions\n"
     ]
    }
   ],
   "source": [
    "import csv\n",
    "# reset the contents\n",
    "contents = []\n",
    "# open the file (read-only)\n",
    "with open(\"condition.csv\", \"r\") as fh:\n",
    "    # use a DictReader, which reads in the file to a list of dicts predicated on the column headers\n",
    "    dr = csv.DictReader(fh)\n",
    "    for line in dr:\n",
    "        contents.append(line)\n",
    "\n",
    "print(\"There are\",len(contents),\"conditions\")\n"
   ]
  },
  {
   "cell_type": "markdown",
   "metadata": {},
   "source": [
    "Now, let's get our count"
   ]
  },
  {
   "cell_type": "code",
   "execution_count": 15,
   "metadata": {},
   "outputs": [
    {
     "name": "stdout",
     "output_type": "stream",
     "text": [
      "There were 1408486 records\n"
     ]
    }
   ],
   "source": [
    "total = sum([int(x.get('COUNT')) for x in contents])\n",
    "print(\"There were\", total, \"records\")"
   ]
  },
  {
   "cell_type": "markdown",
   "metadata": {},
   "source": [
    "Now, an exercise for you!  Find the most commonly reported ADR from the dataset in the `condition.csv` file"
   ]
  },
  {
   "cell_type": "code",
   "execution_count": null,
   "metadata": {},
   "outputs": [],
   "source": [
    "# define our references\n",
    "max_count_value = 0\n",
    "max_count_condition = None\n",
    "\n",
    "def most_common_condition(contents):\n",
    "    \"\"\"\n",
    "    Take a list of dicts and extract the key and value for the maximum value\n",
    "    \"\"\"\n",
    "    pass\n",
    "\n",
    "print(\"Condition \", max_count_condition, \"had\", max_count_value, \"records\")\n"
   ]
  },
  {
   "cell_type": "markdown",
   "metadata": {},
   "source": [
    "## Next\n",
    "\n",
    "Next up, we're going to briefly look at the two superstar modules for the Data Scientist of discernment, numpy and pandas.  Click [here](05_numpy_pandas.ipynb) to continue\n",
    "\n",
    "\n",
    "![Author Geoff Low](author-geoff%20low%20small.png)\n",
    "<img src=\"Logo%20standard.png\" alt=\"PHUSE Education\" style=\"width: 400px;\"/>"
   ]
  }
 ],
 "metadata": {
  "kernelspec": {
   "display_name": "Python 3",
   "language": "python",
   "name": "python3"
  },
  "language_info": {
   "codemirror_mode": {
    "name": "ipython",
    "version": 3
   },
   "file_extension": ".py",
   "mimetype": "text/x-python",
   "name": "python",
   "nbconvert_exporter": "python",
   "pygments_lexer": "ipython3",
   "version": "3.7.6"
  }
 },
 "nbformat": 4,
 "nbformat_minor": 2
}

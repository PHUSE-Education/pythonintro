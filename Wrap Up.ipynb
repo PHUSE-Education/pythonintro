{
 "cells": [
  {
   "cell_type": "markdown",
   "metadata": {},
   "source": [
    "# Wrap up!\n",
    "\n",
    "Hopefully you've been able to pick up some nuggets here to get you started.  There's a huge wealth of information available out there, mostly down to the popularity of the language.  I'll also be checking in on the slack channel from time to time to see if there are any queries I can assist with.  \n",
    "\n",
    "I also encourage you to build your own community around this, within your organisation or as part of a cross-industry platform.  \n"
   ]
  },
  {
   "cell_type": "markdown",
   "metadata": {},
   "source": [
    "## Editors\n",
    "\n",
    "There are a selection of editors with really good Python Support - these are two I recommend:\n",
    "* [Visual Studio Code](https://code.visualstudio.com/)\n",
    "  * install the Microsoft Python support extension [instructions](https://code.visualstudio.com/docs/languages/python), there is support for Notebooks in the most recent release\n",
    "* [PyCharm](https://www.jetbrains.com/pycharm/)\n",
    "  * There is a community version which is free, and a professional version (which is not, but has more features)\n",
    "\n",
    "For a list of others checkout the following link: [Python IDEs and Code Editors (Guide)](https://realpython.com/python-ides-code-editors-guide/)\n"
   ]
  },
  {
   "cell_type": "markdown",
   "metadata": {},
   "source": [
    "## Further exercises\n",
    "\n",
    "I have found Koans as a very useful mechanism to learn different aspects; the gist is you get some broken code and you fix it until it works.  \n",
    "\n",
    "* [python_koans](https://github.com/gregmalcolm/python_koans)"
   ]
  },
  {
   "cell_type": "markdown",
   "metadata": {},
   "source": [
    "## Virtualenvs\n",
    "\n",
    "When you install modules, you can install them in the global interpreter environment or in a 'local' environment.  Installing modules in the global interpreter can get problematic pretty quickly.  To work around this you can use a virtual environment per project.\n",
    "\n",
    "There are a couple of options for that at the moment;\n",
    "* [VirtualEnv](https://virtualenv.pypa.io/en/latest/)\n",
    "* [Pipenv](https://pipenv.kennethreitz.org/en/latest/#install-pipenv-today)\n",
    "* [Pyenv](https://realpython.com/intro-to-pyenv/)\n",
    "* [Poetry](https://poetry.eustace.io/)\n"
   ]
  }
 ],
 "metadata": {
  "kernelspec": {
   "display_name": "Python 3",
   "language": "python",
   "name": "python3"
  },
  "language_info": {
   "codemirror_mode": {
    "name": "ipython",
    "version": 3
   },
   "file_extension": ".py",
   "mimetype": "text/x-python",
   "name": "python",
   "nbconvert_exporter": "python",
   "pygments_lexer": "ipython3",
   "version": "3.7.4"
  }
 },
 "nbformat": 4,
 "nbformat_minor": 2
}
